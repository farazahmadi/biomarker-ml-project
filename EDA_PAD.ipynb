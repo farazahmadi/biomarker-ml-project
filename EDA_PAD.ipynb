{
 "cells": [
  {
   "cell_type": "code",
   "execution_count": 204,
   "metadata": {},
   "outputs": [],
   "source": [
    "import numpy as np\n",
    "import pandas as pd\n",
    "import seaborn as sns\n",
    "import matplotlib.pyplot as plt\n",
    "import pandas"
   ]
  },
  {
   "cell_type": "code",
   "execution_count": 205,
   "metadata": {},
   "outputs": [
    {
     "data": {
      "text/html": [
       "<div>\n",
       "<style scoped>\n",
       "    .dataframe tbody tr th:only-of-type {\n",
       "        vertical-align: middle;\n",
       "    }\n",
       "\n",
       "    .dataframe tbody tr th {\n",
       "        vertical-align: top;\n",
       "    }\n",
       "\n",
       "    .dataframe thead th {\n",
       "        text-align: right;\n",
       "    }\n",
       "</style>\n",
       "<table border=\"1\" class=\"dataframe\">\n",
       "  <thead>\n",
       "    <tr style=\"text-align: right;\">\n",
       "      <th></th>\n",
       "      <th>study ID</th>\n",
       "      <th>IL-33 (pg/ml)</th>\n",
       "      <th>uPAR (pg/ml)</th>\n",
       "      <th>CXCL6 (pg/ml)</th>\n",
       "      <th>ESM-1 (pg/ml)</th>\n",
       "      <th>SCF (pg/ml)</th>\n",
       "      <th>TSG-14 (pg/ml)</th>\n",
       "      <th>IL-2 (pg/ml)</th>\n",
       "      <th>PCSK9 (pg/ml)</th>\n",
       "      <th>RAGE (pg/ml)</th>\n",
       "      <th>...</th>\n",
       "      <th>Plt</th>\n",
       "      <th>HbA1c</th>\n",
       "      <th>crp</th>\n",
       "      <th>HDL</th>\n",
       "      <th>Chol/ HDL ratio</th>\n",
       "      <th>LDL</th>\n",
       "      <th>non-HDL</th>\n",
       "      <th>glucose</th>\n",
       "      <th>glucose fasting</th>\n",
       "      <th>MRNno.</th>\n",
       "    </tr>\n",
       "  </thead>\n",
       "  <tbody>\n",
       "    <tr>\n",
       "      <th>0</th>\n",
       "      <td>5</td>\n",
       "      <td>14.091162</td>\n",
       "      <td>557.896234</td>\n",
       "      <td>110.729424</td>\n",
       "      <td>1055.750683</td>\n",
       "      <td>116.074164</td>\n",
       "      <td>1333.413564</td>\n",
       "      <td>46.5159</td>\n",
       "      <td>69268.6</td>\n",
       "      <td>3231.556933</td>\n",
       "      <td>...</td>\n",
       "      <td>NaN</td>\n",
       "      <td>NaN</td>\n",
       "      <td>NaN</td>\n",
       "      <td>NaN</td>\n",
       "      <td>NaN</td>\n",
       "      <td>NaN</td>\n",
       "      <td>NaN</td>\n",
       "      <td>NaN</td>\n",
       "      <td>NaN</td>\n",
       "      <td>82783</td>\n",
       "    </tr>\n",
       "    <tr>\n",
       "      <th>1</th>\n",
       "      <td>14</td>\n",
       "      <td>33.331707</td>\n",
       "      <td>2383.453789</td>\n",
       "      <td>128.812424</td>\n",
       "      <td>472.920153</td>\n",
       "      <td>107.254642</td>\n",
       "      <td>570.205218</td>\n",
       "      <td>93.9765</td>\n",
       "      <td>66247.9</td>\n",
       "      <td>2459.595380</td>\n",
       "      <td>...</td>\n",
       "      <td>NaN</td>\n",
       "      <td>NaN</td>\n",
       "      <td>NaN</td>\n",
       "      <td>NaN</td>\n",
       "      <td>NaN</td>\n",
       "      <td>NaN</td>\n",
       "      <td>NaN</td>\n",
       "      <td>NaN</td>\n",
       "      <td>NaN</td>\n",
       "      <td>799525</td>\n",
       "    </tr>\n",
       "    <tr>\n",
       "      <th>2</th>\n",
       "      <td>92</td>\n",
       "      <td>19.413896</td>\n",
       "      <td>922.174636</td>\n",
       "      <td>207.177434</td>\n",
       "      <td>983.060117</td>\n",
       "      <td>69.369572</td>\n",
       "      <td>1452.355327</td>\n",
       "      <td>59.5806</td>\n",
       "      <td>117311</td>\n",
       "      <td>1455.813626</td>\n",
       "      <td>...</td>\n",
       "      <td>NaN</td>\n",
       "      <td>NaN</td>\n",
       "      <td>NaN</td>\n",
       "      <td>NaN</td>\n",
       "      <td>NaN</td>\n",
       "      <td>NaN</td>\n",
       "      <td>NaN</td>\n",
       "      <td>NaN</td>\n",
       "      <td>NaN</td>\n",
       "      <td>2089217</td>\n",
       "    </tr>\n",
       "    <tr>\n",
       "      <th>3</th>\n",
       "      <td>119</td>\n",
       "      <td>59.897453</td>\n",
       "      <td>2734.344683</td>\n",
       "      <td>645.989311</td>\n",
       "      <td>1323.804448</td>\n",
       "      <td>187.559274</td>\n",
       "      <td>1353.296620</td>\n",
       "      <td>134.54</td>\n",
       "      <td>115404</td>\n",
       "      <td>4621.795653</td>\n",
       "      <td>...</td>\n",
       "      <td>NaN</td>\n",
       "      <td>NaN</td>\n",
       "      <td>NaN</td>\n",
       "      <td>NaN</td>\n",
       "      <td>NaN</td>\n",
       "      <td>NaN</td>\n",
       "      <td>NaN</td>\n",
       "      <td>NaN</td>\n",
       "      <td>NaN</td>\n",
       "      <td>2736264</td>\n",
       "    </tr>\n",
       "    <tr>\n",
       "      <th>4</th>\n",
       "      <td>124</td>\n",
       "      <td>37.126933</td>\n",
       "      <td>4847.796709</td>\n",
       "      <td>268.216338</td>\n",
       "      <td>991.308486</td>\n",
       "      <td>140.609145</td>\n",
       "      <td>1423.928314</td>\n",
       "      <td>113.069</td>\n",
       "      <td>137419</td>\n",
       "      <td>2821.843801</td>\n",
       "      <td>...</td>\n",
       "      <td>NaN</td>\n",
       "      <td>NaN</td>\n",
       "      <td>NaN</td>\n",
       "      <td>NaN</td>\n",
       "      <td>NaN</td>\n",
       "      <td>NaN</td>\n",
       "      <td>NaN</td>\n",
       "      <td>NaN</td>\n",
       "      <td>NaN</td>\n",
       "      <td>2028463</td>\n",
       "    </tr>\n",
       "  </tbody>\n",
       "</table>\n",
       "<p>5 rows × 80 columns</p>\n",
       "</div>"
      ],
      "text/plain": [
       "  study ID  IL-33 (pg/ml)  uPAR (pg/ml)  CXCL6 (pg/ml)  ESM-1 (pg/ml)  \\\n",
       "0        5      14.091162    557.896234     110.729424    1055.750683   \n",
       "1       14      33.331707   2383.453789     128.812424     472.920153   \n",
       "2       92      19.413896    922.174636     207.177434     983.060117   \n",
       "3      119      59.897453   2734.344683     645.989311    1323.804448   \n",
       "4      124      37.126933   4847.796709     268.216338     991.308486   \n",
       "\n",
       "   SCF (pg/ml)  TSG-14 (pg/ml) IL-2 (pg/ml) PCSK9 (pg/ml)  RAGE (pg/ml)  ...  \\\n",
       "0   116.074164     1333.413564      46.5159       69268.6   3231.556933  ...   \n",
       "1   107.254642      570.205218      93.9765       66247.9   2459.595380  ...   \n",
       "2    69.369572     1452.355327      59.5806        117311   1455.813626  ...   \n",
       "3   187.559274     1353.296620       134.54        115404   4621.795653  ...   \n",
       "4   140.609145     1423.928314      113.069        137419   2821.843801  ...   \n",
       "\n",
       "  Plt  HbA1c  crp  HDL Chol/ HDL ratio  LDL non-HDL glucose  glucose fasting  \\\n",
       "0 NaN    NaN  NaN  NaN             NaN  NaN     NaN     NaN              NaN   \n",
       "1 NaN    NaN  NaN  NaN             NaN  NaN     NaN     NaN              NaN   \n",
       "2 NaN    NaN  NaN  NaN             NaN  NaN     NaN     NaN              NaN   \n",
       "3 NaN    NaN  NaN  NaN             NaN  NaN     NaN     NaN              NaN   \n",
       "4 NaN    NaN  NaN  NaN             NaN  NaN     NaN     NaN              NaN   \n",
       "\n",
       "    MRNno.  \n",
       "0    82783  \n",
       "1   799525  \n",
       "2  2089217  \n",
       "3  2736264  \n",
       "4  2028463  \n",
       "\n",
       "[5 rows x 80 columns]"
      ]
     },
     "execution_count": 205,
     "metadata": {},
     "output_type": "execute_result"
    }
   ],
   "source": [
    "df = pd.read_excel(\"./Biotech panel 1.xlsx\", sheet_name = \"PAD\")\n",
    "df.head()"
   ]
  },
  {
   "cell_type": "code",
   "execution_count": 206,
   "metadata": {},
   "outputs": [],
   "source": [
    "\n",
    "proteins = ['IL-33 (pg/ml)', 'uPAR (pg/ml)', 'CXCL6 (pg/ml)',\n",
    "       'ESM-1 (pg/ml)', 'SCF (pg/ml)', 'TSG-14 (pg/ml)', 'IL-2 (pg/ml)',\n",
    "       'PCSK9 (pg/ml)', 'RAGE (pg/ml)', 'CD62P (pg/ml)', 'ADAMTS13 (pg/ml)',\n",
    "       'Tpo (pg/ml)', 'Tie-2 (pg/ml)', 'KIM-1 (pg/ml)', 'ICAM-1 (pg/ml)',\n",
    "       'Angiopoietin-1 (pg/ml)', 'TNF RII (pg/ml)', 'TNF RI (pg/ml)',\n",
    "       'BMP-2 (pg/ml)', 'ANGPTL3 (pg/ml)', 'ANGPTL4 (pg/ml)',\n",
    "       'CD40 Ligand (pg/ml)', 'CD40 (pg/ml)', 'CXCL1 (pg/ml)']\n",
    "\n",
    "cols = ['Study\\nID','PAD dx', 'Stent', 'PAD intervention', 'MI', 'STROKE', 'LIMB LOSS',\n",
    "       'Death', 'GFR', 'Age\\n', 'Gender', 'Hypertension', 'Hyperchol',\n",
    "       'Diabetes', 'Renal Insufficiency', 'Dialysis', 'Smoking Hx',\n",
    "       'Congestive heart failure', 'Cornary artery disease', 'Stroke/TIA',\n",
    "       'statin', 'ACEi/ARB', 'B-bl', 'CCB', 'HCTZ, Lasix', 'Insulin',\n",
    "       'oral hypoglyc']\n",
    "\n",
    "proteins_new = [s.rstrip(\"(pg/ml)\").strip(\" \") for s in proteins]\n",
    "\n",
    "mapper = dict(zip(proteins, proteins_new))\n",
    "mapper['Study\\nID'] = \"ID\"\n",
    "mapper['PAD dx'] = \"hasPAD\"\n",
    "mapper['Age\\n'] = \"Age\""
   ]
  },
  {
   "cell_type": "code",
   "execution_count": 207,
   "metadata": {},
   "outputs": [
    {
     "data": {
      "text/html": [
       "<div>\n",
       "<style scoped>\n",
       "    .dataframe tbody tr th:only-of-type {\n",
       "        vertical-align: middle;\n",
       "    }\n",
       "\n",
       "    .dataframe tbody tr th {\n",
       "        vertical-align: top;\n",
       "    }\n",
       "\n",
       "    .dataframe thead th {\n",
       "        text-align: right;\n",
       "    }\n",
       "</style>\n",
       "<table border=\"1\" class=\"dataframe\">\n",
       "  <thead>\n",
       "    <tr style=\"text-align: right;\">\n",
       "      <th></th>\n",
       "      <th>IL-33</th>\n",
       "      <th>uPAR</th>\n",
       "      <th>CXCL6</th>\n",
       "      <th>ESM-1</th>\n",
       "      <th>SCF</th>\n",
       "      <th>TSG-14</th>\n",
       "      <th>IL-2</th>\n",
       "      <th>PCSK9</th>\n",
       "      <th>RAGE</th>\n",
       "      <th>CD62P</th>\n",
       "      <th>...</th>\n",
       "      <th>Congestive heart failure</th>\n",
       "      <th>Cornary artery disease</th>\n",
       "      <th>Stroke/TIA</th>\n",
       "      <th>statin</th>\n",
       "      <th>ACEi/ARB</th>\n",
       "      <th>B-bl</th>\n",
       "      <th>CCB</th>\n",
       "      <th>HCTZ, Lasix</th>\n",
       "      <th>Insulin</th>\n",
       "      <th>oral hypoglyc</th>\n",
       "    </tr>\n",
       "  </thead>\n",
       "  <tbody>\n",
       "    <tr>\n",
       "      <th>0</th>\n",
       "      <td>14.091162</td>\n",
       "      <td>557.896234</td>\n",
       "      <td>110.729424</td>\n",
       "      <td>1055.750683</td>\n",
       "      <td>116.074164</td>\n",
       "      <td>1333.413564</td>\n",
       "      <td>46.5159</td>\n",
       "      <td>69268.6</td>\n",
       "      <td>3231.556933</td>\n",
       "      <td>19096.4</td>\n",
       "      <td>...</td>\n",
       "      <td>0</td>\n",
       "      <td>1</td>\n",
       "      <td>1</td>\n",
       "      <td>1</td>\n",
       "      <td>1.0</td>\n",
       "      <td>1.0</td>\n",
       "      <td>0.0</td>\n",
       "      <td>0.0</td>\n",
       "      <td>0.0</td>\n",
       "      <td>NaN</td>\n",
       "    </tr>\n",
       "    <tr>\n",
       "      <th>1</th>\n",
       "      <td>33.331707</td>\n",
       "      <td>2383.453789</td>\n",
       "      <td>128.812424</td>\n",
       "      <td>472.920153</td>\n",
       "      <td>107.254642</td>\n",
       "      <td>570.205218</td>\n",
       "      <td>93.9765</td>\n",
       "      <td>66247.9</td>\n",
       "      <td>2459.595380</td>\n",
       "      <td>35065.3</td>\n",
       "      <td>...</td>\n",
       "      <td>0</td>\n",
       "      <td>1</td>\n",
       "      <td>0</td>\n",
       "      <td>1</td>\n",
       "      <td>1.0</td>\n",
       "      <td>1.0</td>\n",
       "      <td>0.0</td>\n",
       "      <td>0.0</td>\n",
       "      <td>1.0</td>\n",
       "      <td>1.0</td>\n",
       "    </tr>\n",
       "    <tr>\n",
       "      <th>2</th>\n",
       "      <td>19.413896</td>\n",
       "      <td>922.174636</td>\n",
       "      <td>207.177434</td>\n",
       "      <td>983.060117</td>\n",
       "      <td>69.369572</td>\n",
       "      <td>1452.355327</td>\n",
       "      <td>59.5806</td>\n",
       "      <td>117311</td>\n",
       "      <td>1455.813626</td>\n",
       "      <td>31963.2</td>\n",
       "      <td>...</td>\n",
       "      <td>0</td>\n",
       "      <td>valuar disease</td>\n",
       "      <td>0</td>\n",
       "      <td>1</td>\n",
       "      <td>0.0</td>\n",
       "      <td>1.0</td>\n",
       "      <td>0.0</td>\n",
       "      <td>0.0</td>\n",
       "      <td>0.0</td>\n",
       "      <td>0.0</td>\n",
       "    </tr>\n",
       "    <tr>\n",
       "      <th>3</th>\n",
       "      <td>59.897453</td>\n",
       "      <td>2734.344683</td>\n",
       "      <td>645.989311</td>\n",
       "      <td>1323.804448</td>\n",
       "      <td>187.559274</td>\n",
       "      <td>1353.296620</td>\n",
       "      <td>134.54</td>\n",
       "      <td>115404</td>\n",
       "      <td>4621.795653</td>\n",
       "      <td>45794.4</td>\n",
       "      <td>...</td>\n",
       "      <td>0</td>\n",
       "      <td>1</td>\n",
       "      <td>0</td>\n",
       "      <td>1</td>\n",
       "      <td>1.0</td>\n",
       "      <td>1.0</td>\n",
       "      <td>1.0</td>\n",
       "      <td>1.0</td>\n",
       "      <td>0.0</td>\n",
       "      <td>0.0</td>\n",
       "    </tr>\n",
       "    <tr>\n",
       "      <th>4</th>\n",
       "      <td>37.126933</td>\n",
       "      <td>4847.796709</td>\n",
       "      <td>268.216338</td>\n",
       "      <td>991.308486</td>\n",
       "      <td>140.609145</td>\n",
       "      <td>1423.928314</td>\n",
       "      <td>113.069</td>\n",
       "      <td>137419</td>\n",
       "      <td>2821.843801</td>\n",
       "      <td>37232.2</td>\n",
       "      <td>...</td>\n",
       "      <td>0</td>\n",
       "      <td>1</td>\n",
       "      <td>0</td>\n",
       "      <td>1</td>\n",
       "      <td>1.0</td>\n",
       "      <td>1.0</td>\n",
       "      <td>0.0</td>\n",
       "      <td>0.0</td>\n",
       "      <td>0.0</td>\n",
       "      <td>1.0</td>\n",
       "    </tr>\n",
       "    <tr>\n",
       "      <th>...</th>\n",
       "      <td>...</td>\n",
       "      <td>...</td>\n",
       "      <td>...</td>\n",
       "      <td>...</td>\n",
       "      <td>...</td>\n",
       "      <td>...</td>\n",
       "      <td>...</td>\n",
       "      <td>...</td>\n",
       "      <td>...</td>\n",
       "      <td>...</td>\n",
       "      <td>...</td>\n",
       "      <td>...</td>\n",
       "      <td>...</td>\n",
       "      <td>...</td>\n",
       "      <td>...</td>\n",
       "      <td>...</td>\n",
       "      <td>...</td>\n",
       "      <td>...</td>\n",
       "      <td>...</td>\n",
       "      <td>...</td>\n",
       "      <td>...</td>\n",
       "    </tr>\n",
       "    <tr>\n",
       "      <th>456</th>\n",
       "      <td>19.293624</td>\n",
       "      <td>1306.375275</td>\n",
       "      <td>199.662280</td>\n",
       "      <td>659.703232</td>\n",
       "      <td>189.360352</td>\n",
       "      <td>1815.919962</td>\n",
       "      <td>37.0922</td>\n",
       "      <td>1.12191e+06</td>\n",
       "      <td>2789.363327</td>\n",
       "      <td>26758.3</td>\n",
       "      <td>...</td>\n",
       "      <td>0</td>\n",
       "      <td>0</td>\n",
       "      <td>1</td>\n",
       "      <td>1</td>\n",
       "      <td>1.0</td>\n",
       "      <td>0.0</td>\n",
       "      <td>0.0</td>\n",
       "      <td>0.0</td>\n",
       "      <td>0.0</td>\n",
       "      <td>0.0</td>\n",
       "    </tr>\n",
       "    <tr>\n",
       "      <th>457</th>\n",
       "      <td>43.199200</td>\n",
       "      <td>2934.660140</td>\n",
       "      <td>306.064934</td>\n",
       "      <td>471.722845</td>\n",
       "      <td>168.013810</td>\n",
       "      <td>694.179316</td>\n",
       "      <td>148.353</td>\n",
       "      <td>126526</td>\n",
       "      <td>2938.617351</td>\n",
       "      <td>57921.4</td>\n",
       "      <td>...</td>\n",
       "      <td>0</td>\n",
       "      <td>1</td>\n",
       "      <td>0</td>\n",
       "      <td>1</td>\n",
       "      <td>1.0</td>\n",
       "      <td>1.0</td>\n",
       "      <td>0.0</td>\n",
       "      <td>0.0</td>\n",
       "      <td>0.0</td>\n",
       "      <td>1.0</td>\n",
       "    </tr>\n",
       "    <tr>\n",
       "      <th>458</th>\n",
       "      <td>18.041236</td>\n",
       "      <td>1539.144696</td>\n",
       "      <td>177.358173</td>\n",
       "      <td>307.041612</td>\n",
       "      <td>76.732167</td>\n",
       "      <td>1317.496045</td>\n",
       "      <td>45.6247</td>\n",
       "      <td>106692</td>\n",
       "      <td>1990.947935</td>\n",
       "      <td>28926</td>\n",
       "      <td>...</td>\n",
       "      <td>0</td>\n",
       "      <td>1</td>\n",
       "      <td>0</td>\n",
       "      <td>1</td>\n",
       "      <td>1.0</td>\n",
       "      <td>0.0</td>\n",
       "      <td>1.0</td>\n",
       "      <td>0.0</td>\n",
       "      <td>0.0</td>\n",
       "      <td>0.0</td>\n",
       "    </tr>\n",
       "    <tr>\n",
       "      <th>459</th>\n",
       "      <td>22.852870</td>\n",
       "      <td>1420.162225</td>\n",
       "      <td>205.667451</td>\n",
       "      <td>773.600491</td>\n",
       "      <td>183.812321</td>\n",
       "      <td>1725.312706</td>\n",
       "      <td>53.2449</td>\n",
       "      <td>528302</td>\n",
       "      <td>2364.294969</td>\n",
       "      <td>27916</td>\n",
       "      <td>...</td>\n",
       "      <td>0</td>\n",
       "      <td>0</td>\n",
       "      <td>0</td>\n",
       "      <td>NaN</td>\n",
       "      <td>NaN</td>\n",
       "      <td>NaN</td>\n",
       "      <td>NaN</td>\n",
       "      <td>NaN</td>\n",
       "      <td>NaN</td>\n",
       "      <td>NaN</td>\n",
       "    </tr>\n",
       "    <tr>\n",
       "      <th>460</th>\n",
       "      <td>33.331707</td>\n",
       "      <td>1960.237454</td>\n",
       "      <td>208.849200</td>\n",
       "      <td>1033.398914</td>\n",
       "      <td>152.360304</td>\n",
       "      <td>1875.459025</td>\n",
       "      <td>104.178</td>\n",
       "      <td>121670</td>\n",
       "      <td>4252.793873</td>\n",
       "      <td>34529.7</td>\n",
       "      <td>...</td>\n",
       "      <td>0</td>\n",
       "      <td>0</td>\n",
       "      <td>1</td>\n",
       "      <td>1</td>\n",
       "      <td>1.0</td>\n",
       "      <td>1.0</td>\n",
       "      <td>1.0</td>\n",
       "      <td>0.0</td>\n",
       "      <td>0.0</td>\n",
       "      <td>0.0</td>\n",
       "    </tr>\n",
       "  </tbody>\n",
       "</table>\n",
       "<p>461 rows × 51 columns</p>\n",
       "</div>"
      ],
      "text/plain": [
       "         IL-33         uPAR       CXCL6        ESM-1         SCF       TSG-14  \\\n",
       "0    14.091162   557.896234  110.729424  1055.750683  116.074164  1333.413564   \n",
       "1    33.331707  2383.453789  128.812424   472.920153  107.254642   570.205218   \n",
       "2    19.413896   922.174636  207.177434   983.060117   69.369572  1452.355327   \n",
       "3    59.897453  2734.344683  645.989311  1323.804448  187.559274  1353.296620   \n",
       "4    37.126933  4847.796709  268.216338   991.308486  140.609145  1423.928314   \n",
       "..         ...          ...         ...          ...         ...          ...   \n",
       "456  19.293624  1306.375275  199.662280   659.703232  189.360352  1815.919962   \n",
       "457  43.199200  2934.660140  306.064934   471.722845  168.013810   694.179316   \n",
       "458  18.041236  1539.144696  177.358173   307.041612   76.732167  1317.496045   \n",
       "459  22.852870  1420.162225  205.667451   773.600491  183.812321  1725.312706   \n",
       "460  33.331707  1960.237454  208.849200  1033.398914  152.360304  1875.459025   \n",
       "\n",
       "        IL-2        PCSK9         RAGE    CD62P  ...  \\\n",
       "0    46.5159      69268.6  3231.556933  19096.4  ...   \n",
       "1    93.9765      66247.9  2459.595380  35065.3  ...   \n",
       "2    59.5806       117311  1455.813626  31963.2  ...   \n",
       "3     134.54       115404  4621.795653  45794.4  ...   \n",
       "4    113.069       137419  2821.843801  37232.2  ...   \n",
       "..       ...          ...          ...      ...  ...   \n",
       "456  37.0922  1.12191e+06  2789.363327  26758.3  ...   \n",
       "457  148.353       126526  2938.617351  57921.4  ...   \n",
       "458  45.6247       106692  1990.947935    28926  ...   \n",
       "459  53.2449       528302  2364.294969    27916  ...   \n",
       "460  104.178       121670  4252.793873  34529.7  ...   \n",
       "\n",
       "     Congestive heart failure  Cornary artery disease  Stroke/TIA statin  \\\n",
       "0                           0                       1           1      1   \n",
       "1                           0                       1           0      1   \n",
       "2                           0          valuar disease           0      1   \n",
       "3                           0                       1           0      1   \n",
       "4                           0                       1           0      1   \n",
       "..                        ...                     ...         ...    ...   \n",
       "456                         0                       0           1      1   \n",
       "457                         0                       1           0      1   \n",
       "458                         0                       1           0      1   \n",
       "459                         0                       0           0    NaN   \n",
       "460                         0                       0           1      1   \n",
       "\n",
       "     ACEi/ARB B-bl  CCB  HCTZ, Lasix Insulin oral hypoglyc  \n",
       "0         1.0  1.0  0.0          0.0     0.0           NaN  \n",
       "1         1.0  1.0  0.0          0.0     1.0           1.0  \n",
       "2         0.0  1.0  0.0          0.0     0.0           0.0  \n",
       "3         1.0  1.0  1.0          1.0     0.0           0.0  \n",
       "4         1.0  1.0  0.0          0.0     0.0           1.0  \n",
       "..        ...  ...  ...          ...     ...           ...  \n",
       "456       1.0  0.0  0.0          0.0     0.0           0.0  \n",
       "457       1.0  1.0  0.0          0.0     0.0           1.0  \n",
       "458       1.0  0.0  1.0          0.0     0.0           0.0  \n",
       "459       NaN  NaN  NaN          NaN     NaN           NaN  \n",
       "460       1.0  1.0  1.0          0.0     0.0           0.0  \n",
       "\n",
       "[461 rows x 51 columns]"
      ]
     },
     "execution_count": 207,
     "metadata": {},
     "output_type": "execute_result"
    }
   ],
   "source": [
    "df = df[proteins + cols].rename(mapper, axis = 1)\n",
    "df"
   ]
  },
  {
   "cell_type": "markdown",
   "metadata": {},
   "source": [
    "## Output - Diagnosis of PAD"
   ]
  },
  {
   "cell_type": "code",
   "execution_count": 208,
   "metadata": {},
   "outputs": [
    {
     "data": {
      "text/plain": [
       "1    295\n",
       "0    166\n",
       "Name: hasPAD, dtype: int64"
      ]
     },
     "execution_count": 208,
     "metadata": {},
     "output_type": "execute_result"
    }
   ],
   "source": [
    "df[\"hasPAD\"] = df.hasPAD.apply(lambda x: int(x.lower() == 'pad'))\n",
    "df.hasPAD.value_counts(dropna=False)"
   ]
  },
  {
   "cell_type": "code",
   "execution_count": 209,
   "metadata": {},
   "outputs": [
    {
     "data": {
      "text/plain": [
       "Index(['IL-2', 'PCSK9', 'CD62P', 'KIM-1', 'Angiopoietin-1', 'TNF RII', 'BMP-2',\n",
       "       'ANGPTL3', 'CXCL1', 'Stent', 'PAD intervention', 'MI', 'STROKE',\n",
       "       'LIMB LOSS', 'Death', 'GFR', 'Hypertension', 'Congestive heart failure',\n",
       "       'Cornary artery disease', 'Stroke/TIA', 'statin'],\n",
       "      dtype='object')"
      ]
     },
     "execution_count": 209,
     "metadata": {},
     "output_type": "execute_result"
    }
   ],
   "source": [
    "df.select_dtypes(\"object\").columns"
   ]
  },
  {
   "cell_type": "code",
   "execution_count": 210,
   "metadata": {},
   "outputs": [],
   "source": [
    "###proteins should be numerical,,removing any leading or trailing chars\n",
    "p_cols = ['IL-2', 'PCSK9', 'CD62P', 'KIM-1', 'Angiopoietin-1', 'TNF RII', 'BMP-2',\n",
    "       'ANGPTL3', 'CXCL1']\n",
    "df[p_cols] = df[p_cols].apply(lambda col: col.astype(str).str.strip(\",<>\").astype(\"float64\"), axis = 0)"
   ]
  },
  {
   "cell_type": "code",
   "execution_count": 211,
   "metadata": {},
   "outputs": [
    {
     "data": {
      "text/plain": [
       "Index(['Stent', 'PAD intervention', 'MI', 'STROKE', 'LIMB LOSS', 'Death',\n",
       "       'GFR', 'Hypertension', 'Congestive heart failure',\n",
       "       'Cornary artery disease', 'Stroke/TIA', 'statin'],\n",
       "      dtype='object')"
      ]
     },
     "execution_count": 211,
     "metadata": {},
     "output_type": "execute_result"
    }
   ],
   "source": [
    "df.select_dtypes(\"object\").columns"
   ]
  },
  {
   "cell_type": "markdown",
   "metadata": {},
   "source": [
    "## PAD Complication vars"
   ]
  },
  {
   "cell_type": "markdown",
   "metadata": {},
   "source": [
    "> Columns 'Stent' to 'GFR' are complications variables for the stage 2 of project"
   ]
  },
  {
   "cell_type": "code",
   "execution_count": 212,
   "metadata": {},
   "outputs": [],
   "source": [
    "#df.Stent.value_counts()"
   ]
  },
  {
   "cell_type": "markdown",
   "metadata": {},
   "source": [
    "## Clinical Variables\n",
    "\n",
    "Some variables have unwanted levels -- turn them into binary variables for modeling"
   ]
  },
  {
   "cell_type": "code",
   "execution_count": 213,
   "metadata": {},
   "outputs": [
    {
     "data": {
      "text/plain": [
       "Age                         float64\n",
       "Gender                      float64\n",
       "Hypertension                 object\n",
       "Hyperchol                   float64\n",
       "Diabetes                    float64\n",
       "Renal Insufficiency         float64\n",
       "Dialysis                    float64\n",
       "Smoking Hx                  float64\n",
       "Congestive heart failure     object\n",
       "Cornary artery disease       object\n",
       "Stroke/TIA                   object\n",
       "statin                       object\n",
       "ACEi/ARB                    float64\n",
       "B-bl                        float64\n",
       "CCB                         float64\n",
       "HCTZ, Lasix                 float64\n",
       "Insulin                     float64\n",
       "oral hypoglyc               float64\n",
       "dtype: object"
      ]
     },
     "execution_count": 213,
     "metadata": {},
     "output_type": "execute_result"
    }
   ],
   "source": [
    "###these are the clinical history vars\n",
    "df.iloc[:,df.columns.get_loc(\"Age\"):].dtypes"
   ]
  },
  {
   "cell_type": "code",
   "execution_count": 214,
   "metadata": {},
   "outputs": [],
   "source": [
    "obj_cols = df.iloc[:,df.columns.get_loc(\"Age\"):].select_dtypes(\"object\").columns\n",
    "df[obj_cols] = df[obj_cols].astype(str) \n",
    "df[obj_cols] = df[obj_cols].apply(lambda col: col.str.strip()) #remove possible spaces\n",
    "df[obj_cols].apply(lambda x: pd.value_counts(x, dropna = False))\n",
    "\n",
    "df = df.replace(to_replace={\"Hypertension\": {\"CHECK\": np.nan},\n",
    "\"Congestive heart failure\": {\"1 (In past)\": \"1\"},\n",
    "\"Cornary artery disease\": {\"valuar disease\": \"1\"},\n",
    "\"Stroke/TIA\": {\"tia\": \"1\"},\n",
    "\"statin\": {\"2\": \"1\", \"check\": np.nan}\n",
    "})\n",
    "\n",
    "df[obj_cols] = df[obj_cols].astype(float)"
   ]
  },
  {
   "cell_type": "code",
   "execution_count": 215,
   "metadata": {},
   "outputs": [
    {
     "data": {
      "text/html": [
       "<div>\n",
       "<style scoped>\n",
       "    .dataframe tbody tr th:only-of-type {\n",
       "        vertical-align: middle;\n",
       "    }\n",
       "\n",
       "    .dataframe tbody tr th {\n",
       "        vertical-align: top;\n",
       "    }\n",
       "\n",
       "    .dataframe thead th {\n",
       "        text-align: right;\n",
       "    }\n",
       "</style>\n",
       "<table border=\"1\" class=\"dataframe\">\n",
       "  <thead>\n",
       "    <tr style=\"text-align: right;\">\n",
       "      <th></th>\n",
       "      <th>Hypertension</th>\n",
       "      <th>Congestive heart failure</th>\n",
       "      <th>Cornary artery disease</th>\n",
       "      <th>Stroke/TIA</th>\n",
       "      <th>statin</th>\n",
       "    </tr>\n",
       "  </thead>\n",
       "  <tbody>\n",
       "    <tr>\n",
       "      <th>0.0</th>\n",
       "      <td>108</td>\n",
       "      <td>434</td>\n",
       "      <td>285</td>\n",
       "      <td>365</td>\n",
       "      <td>89</td>\n",
       "    </tr>\n",
       "    <tr>\n",
       "      <th>1.0</th>\n",
       "      <td>350</td>\n",
       "      <td>21</td>\n",
       "      <td>169</td>\n",
       "      <td>78</td>\n",
       "      <td>345</td>\n",
       "    </tr>\n",
       "    <tr>\n",
       "      <th>NaN</th>\n",
       "      <td>3</td>\n",
       "      <td>6</td>\n",
       "      <td>7</td>\n",
       "      <td>18</td>\n",
       "      <td>27</td>\n",
       "    </tr>\n",
       "  </tbody>\n",
       "</table>\n",
       "</div>"
      ],
      "text/plain": [
       "     Hypertension  Congestive heart failure  Cornary artery disease  \\\n",
       "0.0           108                       434                     285   \n",
       "1.0           350                        21                     169   \n",
       "NaN             3                         6                       7   \n",
       "\n",
       "     Stroke/TIA  statin  \n",
       "0.0         365      89  \n",
       "1.0          78     345  \n",
       "NaN          18      27  "
      ]
     },
     "execution_count": 215,
     "metadata": {},
     "output_type": "execute_result"
    }
   ],
   "source": [
    "df[obj_cols].apply(lambda x: pd.value_counts(x, dropna=False))"
   ]
  },
  {
   "cell_type": "code",
   "execution_count": 216,
   "metadata": {},
   "outputs": [
    {
     "data": {
      "text/plain": [
       "(461, 51)"
      ]
     },
     "execution_count": 216,
     "metadata": {},
     "output_type": "execute_result"
    }
   ],
   "source": [
    "df.shape"
   ]
  },
  {
   "cell_type": "markdown",
   "metadata": {},
   "source": [
    "## ADD new proteins from panel 3"
   ]
  },
  {
   "cell_type": "code",
   "execution_count": 221,
   "metadata": {},
   "outputs": [],
   "source": [
    "newPanel = pd.read_excel(\"./panel 3.xlsx\", sheet_name=\"pad n\")\n",
    "new_panel_proteins = ['NT- pro BNP (pg/ml)', 'Ck-MB (pg/ml)', 'Troponin I (pg/ml)',\n",
    "    'FABP4  (pg/ml)', 'FABP3 1value (pg/ml) baseline', 'Cathepsin S',\n",
    "    'APRIL/TNFSF13', 'Galectin-1', 'ALCAM/CD166', 'EpCAM/TROP1', 'Furin',\n",
    "    'GDF-15', 'Chemerin', 'Endostatin', 'Aggrecan']\n",
    "newPanel = newPanel[['study ID'] + new_panel_proteins].copy()\n",
    "newPanel.rename(columns={\"study ID\": 'ID'}, inplace=True)\n"
   ]
  },
  {
   "cell_type": "code",
   "execution_count": 218,
   "metadata": {},
   "outputs": [],
   "source": [
    "df = df.merge(newPanel, on=\"ID\", how=\"left\")"
   ]
  },
  {
   "cell_type": "markdown",
   "metadata": {},
   "source": [
    "# Exploratory Data Analysis"
   ]
  },
  {
   "cell_type": "code",
   "execution_count": 223,
   "metadata": {},
   "outputs": [
    {
     "data": {
      "text/plain": [
       "(461, 67)"
      ]
     },
     "execution_count": 223,
     "metadata": {},
     "output_type": "execute_result"
    }
   ],
   "source": [
    "df.shape"
   ]
  },
  {
   "cell_type": "code",
   "execution_count": 222,
   "metadata": {},
   "outputs": [
    {
     "data": {
      "text/plain": [
       "FABP4  (pg/ml)                   70\n",
       "FABP3 1value (pg/ml) baseline    47\n",
       "NT- pro BNP (pg/ml)              46\n",
       "Ck-MB (pg/ml)                    46\n",
       "Troponin I (pg/ml)               46\n",
       "Cathepsin S                      29\n",
       "Chemerin                         25\n",
       "ALCAM/CD166                      24\n",
       "APRIL/TNFSF13                    23\n",
       "Aggrecan                         21\n",
       "Galectin-1                       20\n",
       "Endostatin                       19\n",
       "CXCL1                            18\n",
       "Furin                            17\n",
       "GDF-15                           17\n",
       "EpCAM/TROP1                      17\n",
       "uPAR                             15\n",
       "SCF                              15\n",
       "TSG-14                           14\n",
       "TNF RII                          13\n",
       "ADAMTS13                         12\n",
       "Tpo                               9\n",
       "RAGE                              7\n",
       "CXCL6                             0\n",
       "ESM-1                             0\n",
       "IL-2                              0\n",
       "PCSK9                             0\n",
       "CD62P                             0\n",
       "ANGPTL3                           0\n",
       "Tie-2                             0\n",
       "KIM-1                             0\n",
       "ICAM-1                            0\n",
       "Angiopoietin-1                    0\n",
       "TNF RI                            0\n",
       "BMP-2                             0\n",
       "ANGPTL4                           0\n",
       "CD40 Ligand                       0\n",
       "CD40                              0\n",
       "IL-33                             0\n",
       "dtype: int64"
      ]
     },
     "execution_count": 222,
     "metadata": {},
     "output_type": "execute_result"
    }
   ],
   "source": [
    "df[proteins_new + new_panel_proteins].isna().sum().sort_values(ascending=False)"
   ]
  },
  {
   "cell_type": "code",
   "execution_count": 123,
   "metadata": {},
   "outputs": [
    {
     "data": {
      "text/plain": [
       "(461, 51)"
      ]
     },
     "execution_count": 123,
     "metadata": {},
     "output_type": "execute_result"
    }
   ],
   "source": [
    "df.shape"
   ]
  },
  {
   "cell_type": "code",
   "execution_count": 122,
   "metadata": {},
   "outputs": [
    {
     "data": {
      "text/plain": [
       "(384, 24)"
      ]
     },
     "execution_count": 122,
     "metadata": {},
     "output_type": "execute_result"
    }
   ],
   "source": [
    "df[proteins_new].dropna().shape"
   ]
  },
  {
   "cell_type": "code",
   "execution_count": 121,
   "metadata": {},
   "outputs": [
    {
     "data": {
      "text/html": [
       "<div>\n",
       "<style scoped>\n",
       "    .dataframe tbody tr th:only-of-type {\n",
       "        vertical-align: middle;\n",
       "    }\n",
       "\n",
       "    .dataframe tbody tr th {\n",
       "        vertical-align: top;\n",
       "    }\n",
       "\n",
       "    .dataframe thead th {\n",
       "        text-align: right;\n",
       "    }\n",
       "</style>\n",
       "<table border=\"1\" class=\"dataframe\">\n",
       "  <thead>\n",
       "    <tr style=\"text-align: right;\">\n",
       "      <th></th>\n",
       "      <th>hasPAD</th>\n",
       "      <th>0</th>\n",
       "      <th>1</th>\n",
       "    </tr>\n",
       "  </thead>\n",
       "  <tbody>\n",
       "    <tr>\n",
       "      <th rowspan=\"5\" valign=\"top\">IL-33</th>\n",
       "      <th>count</th>\n",
       "      <td>166.000000</td>\n",
       "      <td>295.000000</td>\n",
       "    </tr>\n",
       "    <tr>\n",
       "      <th>mean</th>\n",
       "      <td>26.955637</td>\n",
       "      <td>27.225852</td>\n",
       "    </tr>\n",
       "    <tr>\n",
       "      <th>std</th>\n",
       "      <td>31.667780</td>\n",
       "      <td>15.320735</td>\n",
       "    </tr>\n",
       "    <tr>\n",
       "      <th>min</th>\n",
       "      <td>6.952810</td>\n",
       "      <td>4.451161</td>\n",
       "    </tr>\n",
       "    <tr>\n",
       "      <th>25%</th>\n",
       "      <td>16.981160</td>\n",
       "      <td>18.041236</td>\n",
       "    </tr>\n",
       "    <tr>\n",
       "      <th>...</th>\n",
       "      <th>...</th>\n",
       "      <td>...</td>\n",
       "      <td>...</td>\n",
       "    </tr>\n",
       "    <tr>\n",
       "      <th rowspan=\"5\" valign=\"top\">CXCL1</th>\n",
       "      <th>min</th>\n",
       "      <td>4.086812</td>\n",
       "      <td>93.139045</td>\n",
       "    </tr>\n",
       "    <tr>\n",
       "      <th>25%</th>\n",
       "      <td>152.018053</td>\n",
       "      <td>164.736383</td>\n",
       "    </tr>\n",
       "    <tr>\n",
       "      <th>50%</th>\n",
       "      <td>215.142341</td>\n",
       "      <td>223.944663</td>\n",
       "    </tr>\n",
       "    <tr>\n",
       "      <th>75%</th>\n",
       "      <td>258.036824</td>\n",
       "      <td>276.666994</td>\n",
       "    </tr>\n",
       "    <tr>\n",
       "      <th>max</th>\n",
       "      <td>929.030578</td>\n",
       "      <td>2060.370359</td>\n",
       "    </tr>\n",
       "  </tbody>\n",
       "</table>\n",
       "<p>192 rows × 2 columns</p>\n",
       "</div>"
      ],
      "text/plain": [
       "hasPAD                0            1\n",
       "IL-33 count  166.000000   295.000000\n",
       "      mean    26.955637    27.225852\n",
       "      std     31.667780    15.320735\n",
       "      min      6.952810     4.451161\n",
       "      25%     16.981160    18.041236\n",
       "...                 ...          ...\n",
       "CXCL1 min      4.086812    93.139045\n",
       "      25%    152.018053   164.736383\n",
       "      50%    215.142341   223.944663\n",
       "      75%    258.036824   276.666994\n",
       "      max    929.030578  2060.370359\n",
       "\n",
       "[192 rows x 2 columns]"
      ]
     },
     "execution_count": 121,
     "metadata": {},
     "output_type": "execute_result"
    }
   ],
   "source": [
    "df[proteins_new + [\"hasPAD\"]].groupby(\"hasPAD\").describe().T"
   ]
  },
  {
   "cell_type": "code",
   "execution_count": 98,
   "metadata": {},
   "outputs": [
    {
     "data": {
      "image/png": "[encoded data removed]",
      "text/plain": [
       "<Figure size 432x288 with 1 Axes>"
      ]
     },
     "metadata": {
      "needs_background": "light"
     },
     "output_type": "display_data"
    },
    {
     "data": {
      "image/png": "[encoded data removed]",
      "text/plain": [
       "<Figure size 432x288 with 1 Axes>"
      ]
     },
     "metadata": {
      "needs_background": "light"
     },
     "output_type": "display_data"
    },
    {
     "data": {
      "image/png": "[encoded data removed]",
      "text/plain": [
       "<Figure size 432x288 with 1 Axes>"
      ]
     },
     "metadata": {
      "needs_background": "light"
     },
     "output_type": "display_data"
    },
    {
     "data": {
      "image/png": "[encoded data removed]",
      "text/plain": [
       "<Figure size 432x288 with 1 Axes>"
      ]
     },
     "metadata": {
      "needs_background": "light"
     },
     "output_type": "display_data"
    },
    {
     "data": {
      "image/png": "[encoded data removed]",
      "text/plain": [
       "<Figure size 432x288 with 1 Axes>"
      ]
     },
     "metadata": {
      "needs_background": "light"
     },
     "output_type": "display_data"
    },
    {
     "data": {
      "image/png": "[encoded data removed]",
      "text/plain": [
       "<Figure size 432x288 with 1 Axes>"
      ]
     },
     "metadata": {
      "needs_background": "light"
     },
     "output_type": "display_data"
    },
    {
     "data": {
      "image/png": "[encoded data removed]",
      "text/plain": [
       "<Figure size 432x288 with 1 Axes>"
      ]
     },
     "metadata": {
      "needs_background": "light"
     },
     "output_type": "display_data"
    },
    {
     "data": {
      "image/png": "[encoded data removed]",
      "text/plain": [
       "<Figure size 432x288 with 1 Axes>"
      ]
     },
     "metadata": {
      "needs_background": "light"
     },
     "output_type": "display_data"
    },
    {
     "data": {
      "image/png": "[encoded data removed]",
      "text/plain": [
       "<Figure size 432x288 with 1 Axes>"
      ]
     },
     "metadata": {
      "needs_background": "light"
     },
     "output_type": "display_data"
    },
    {
     "data": {
      "image/png": "[encoded data removed]",
      "text/plain": [
       "<Figure size 432x288 with 1 Axes>"
      ]
     },
     "metadata": {
      "needs_background": "light"
     },
     "output_type": "display_data"
    },
    {
     "data": {
      "image/png": "[encoded data removed]",
      "text/plain": [
       "<Figure size 432x288 with 1 Axes>"
      ]
     },
     "metadata": {
      "needs_background": "light"
     },
     "output_type": "display_data"
    },
    {
     "data": {
      "image/png": "[encoded data removed]",
      "text/plain": [
       "<Figure size 432x288 with 1 Axes>"
      ]
     },
     "metadata": {
      "needs_background": "light"
     },
     "output_type": "display_data"
    },
    {
     "data": {
      "image/png": "[encoded data removed]",
      "text/plain": [
       "<Figure size 432x288 with 1 Axes>"
      ]
     },
     "metadata": {
      "needs_background": "light"
     },
     "output_type": "display_data"
    },
    {
     "data": {
      "image/png": "[encoded data removed]",
      "text/plain": [
       "<Figure size 432x288 with 1 Axes>"
      ]
     },
     "metadata": {
      "needs_background": "light"
     },
     "output_type": "display_data"
    },
    {
     "data": {
      "image/png": "[encoded data removed]",
      "text/plain": [
       "<Figure size 432x288 with 1 Axes>"
      ]
     },
     "metadata": {
      "needs_background": "light"
     },
     "output_type": "display_data"
    },
    {
     "data": {
      "image/png": "[encoded data removed]",
      "text/plain": [
       "<Figure size 432x288 with 1 Axes>"
      ]
     },
     "metadata": {
      "needs_background": "light"
     },
     "output_type": "display_data"
    },
    {
     "data": {
      "image/png": "[encoded data removed]",
      "text/plain": [
       "<Figure size 432x288 with 1 Axes>"
      ]
     },
     "metadata": {
      "needs_background": "light"
     },
     "output_type": "display_data"
    },
    {
     "data": {
      "image/png": "[encoded data removed]",
      "text/plain": [
       "<Figure size 432x288 with 1 Axes>"
      ]
     },
     "metadata": {
      "needs_background": "light"
     },
     "output_type": "display_data"
    },
    {
     "data": {
      "image/png": "[encoded data removed]",
      "text/plain": [
       "<Figure size 432x288 with 1 Axes>"
      ]
     },
     "metadata": {
      "needs_background": "light"
     },
     "output_type": "display_data"
    },
    {
     "data": {
      "image/png": "[encoded data removed]",
      "text/plain": [
       "<Figure size 432x288 with 1 Axes>"
      ]
     },
     "metadata": {
      "needs_background": "light"
     },
     "output_type": "display_data"
    },
    {
     "data": {
      "image/png": "[encoded data removed]",
      "text/plain": [
       "<Figure size 432x288 with 1 Axes>"
      ]
     },
     "metadata": {
      "needs_background": "light"
     },
     "output_type": "display_data"
    },
    {
     "data": {
      "image/png": "[encoded data removed]",
      "text/plain": [
       "<Figure size 432x288 with 1 Axes>"
      ]
     },
     "metadata": {
      "needs_background": "light"
     },
     "output_type": "display_data"
    },
    {
     "data": {
      "image/png": "[encoded data removed]",
      "text/plain": [
       "<Figure size 432x288 with 1 Axes>"
      ]
     },
     "metadata": {
      "needs_background": "light"
     },
     "output_type": "display_data"
    },
    {
     "data": {
      "image/png": "[encoded data removed]",
      "text/plain": [
       "<Figure size 432x288 with 1 Axes>"
      ]
     },
     "metadata": {
      "needs_background": "light"
     },
     "output_type": "display_data"
    }
   ],
   "source": [
    "# for var in proteins_new:\n",
    "#     sns.boxplot(data= df, y = var, x=\"hasPAD\")\n",
    "#     plt.show()"
   ]
  },
  {
   "cell_type": "code",
   "execution_count": 99,
   "metadata": {},
   "outputs": [
    {
     "data": {
      "text/plain": [
       "1    295\n",
       "0    166\n",
       "Name: hasPAD, dtype: int64"
      ]
     },
     "execution_count": 99,
     "metadata": {},
     "output_type": "execute_result"
    }
   ],
   "source": [
    "df.hasPAD.value_counts()"
   ]
  },
  {
   "cell_type": "code",
   "execution_count": 105,
   "metadata": {},
   "outputs": [],
   "source": [
    "from scipy.stats import ttest_ind, levene, welch\n",
    "\n",
    "df_test = df[proteins_new + [\"hasPAD\"]]\n",
    "# df_test.groupby(\"hasPAD\").apply(lambda t_test: ttest_ind(df_test[]))"
   ]
  },
  {
   "cell_type": "code",
   "execution_count": 119,
   "metadata": {},
   "outputs": [
    {
     "name": "stdout",
     "output_type": "stream",
     "text": [
      "(384, 25)\n",
      "Protein IL-33 has variance test p-value: 0.13 \n",
      "Protein uPAR has variance test p-value: 0.15 \n",
      "Protein CXCL6 has variance test p-value: 0.99 \n",
      "Protein ESM-1 has variance test p-value: 0.17 \n",
      "Protein SCF has variance test p-value: 0.01 \n",
      "Protein TSG-14 has variance test p-value: 0.02 \n",
      "Protein IL-2 has variance test p-value: 0.20 \n",
      "Protein PCSK9 has variance test p-value: 0.58 \n",
      "Protein RAGE has variance test p-value: 0.00 \n",
      "Protein CD62P has variance test p-value: 0.09 \n",
      "Protein ADAMTS13 has variance test p-value: 0.76 \n",
      "Protein Tpo has variance test p-value: 0.15 \n",
      "Protein Tie-2 has variance test p-value: 0.00 \n",
      "Protein KIM-1 has variance test p-value: 0.20 \n",
      "Protein ICAM-1 has variance test p-value: 0.97 \n",
      "Protein Angiopoietin-1 has variance test p-value: 0.21 \n",
      "Protein TNF RII has variance test p-value: 0.01 \n",
      "Protein TNF RI has variance test p-value: 0.00 \n",
      "Protein BMP-2 has variance test p-value: 0.02 \n",
      "Protein ANGPTL3 has variance test p-value: 0.58 \n",
      "Protein ANGPTL4 has variance test p-value: 0.01 \n",
      "Protein CD40 Ligand has variance test p-value: 0.03 \n",
      "Protein CD40 has variance test p-value: 0.03 \n",
      "Protein CXCL1 has variance test p-value: 0.21 \n"
     ]
    }
   ],
   "source": [
    "df_test = df[proteins_new + [\"hasPAD\"]].dropna()\n",
    "print(df_test.shape)\n",
    "for protein in proteins_new:\n",
    "    grp1 = df_test.loc[df_test.hasPAD == 1, protein]\n",
    "    grp2 = df_test.loc[df_test.hasPAD == 0, protein]\n",
    "    print(\"Protein {} has variance test p-value: {:.2f} \".format(protein, levene(grp1, grp2)[1]))"
   ]
  },
  {
   "cell_type": "code",
   "execution_count": 114,
   "metadata": {},
   "outputs": [
    {
     "data": {
      "text/plain": [
       "1.551482486511522"
      ]
     },
     "execution_count": 114,
     "metadata": {},
     "output_type": "execute_result"
    }
   ],
   "source": [
    "levene(grp1, grp2)[0]"
   ]
  },
  {
   "cell_type": "code",
   "execution_count": null,
   "metadata": {},
   "outputs": [],
   "source": []
  }
 ],
 "metadata": {
  "interpreter": {
   "hash": "3bd13bc16400e16874b7ce28af58a129343287e94248a182c1f06fbb6b76ef8e"
  },
  "kernelspec": {
   "display_name": "Python 3.8.1 32-bit",
   "language": "python",
   "name": "python3"
  },
  "language_info": {
   "codemirror_mode": {
    "name": "ipython",
    "version": 3
   },
   "file_extension": ".py",
   "mimetype": "text/x-python",
   "name": "python",
   "nbconvert_exporter": "python",
   "pygments_lexer": "ipython3",
   "version": "3.8.1"
  },
  "orig_nbformat": 4
 },
 "nbformat": 4,
 "nbformat_minor": 2
}
